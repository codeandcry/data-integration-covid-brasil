{
 "cells": [
  {
   "cell_type": "markdown",
   "id": "709b076f",
   "metadata": {
    "pycharm": {
     "name": "#%% md\n"
    }
   },
   "source": [
    "# data-integration-covid-brasil"
   ]
  },
  {
   "cell_type": "markdown",
   "id": "731974b7",
   "metadata": {
    "pycharm": {
     "name": "#%% md\n"
    }
   },
   "source": [
    "# Data Pipelines"
   ]
  },
  {
   "cell_type": "markdown",
   "id": "437b8571",
   "metadata": {
    "pycharm": {
     "name": "#%% md\n"
    }
   },
   "source": [
    "## Banco de dados de síndrome respiratória aguda grave - incluindo dados do COVID-19"
   ]
  },
  {
   "cell_type": "markdown",
   "id": "ac773f56",
   "metadata": {
    "pycharm": {
     "name": "#%% md\n"
    }
   },
   "source": [
    "### Downloads"
   ]
  },
  {
   "cell_type": "markdown",
   "id": "ab04b5ce",
   "metadata": {
    "pycharm": {
     "name": "#%% md\n"
    }
   },
   "source": [
    "### 2020"
   ]
  },
  {
   "cell_type": "code",
   "execution_count": 1,
   "id": "6b737233",
   "metadata": {
    "pycharm": {
     "name": "#%%\n"
    }
   },
   "outputs": [
    {
     "name": "stdout",
     "output_type": "stream",
     "text": [
      "--2022-12-21 14:31:07--  https://drive.google.com/uc?export=download&id=1Uqtx4Pnmkc8jmNxg8ICYTpxRH8F8S2YV\n",
      "Resolving drive.google.com (drive.google.com)... 142.250.79.46, 2800:3f0:4004:80b::200e\n",
      "Connecting to drive.google.com (drive.google.com)|142.250.79.46|:443... connected.\n",
      "HTTP request sent, awaiting response... 200 OK\n",
      "Length: unspecified [text/html]\n",
      "Saving to: ‘STDOUT’\n",
      "\n",
      "-                       [ <=>                ]   2.23K  --.-KB/s    in 0s      \n",
      "\n",
      "2022-12-21 14:31:08 (37.0 MB/s) - written to stdout [2286]\n",
      "\n",
      "--2022-12-21 14:31:08--  https://drive.google.com/uc?export=download&id=1Uqtx4Pnmkc8jmNxg8ICYTpxRH8F8S2YV&confirm=\n",
      "Resolving drive.google.com (drive.google.com)... 142.250.79.46, 2800:3f0:4004:80b::200e\n",
      "Connecting to drive.google.com (drive.google.com)|142.250.79.46|:443... connected.\n",
      "HTTP request sent, awaiting response... 303 See Other\n",
      "Location: https://doc-0k-68-docs.googleusercontent.com/docs/securesc/ha0ro937gcuc7l7deffksulhg5h7mbp1/46614tt3n3sel0l8a6ibrtnd3frkksmp/1671633000000/08807442732938955114/*/1Uqtx4Pnmkc8jmNxg8ICYTpxRH8F8S2YV?e=download&uuid=764b1485-03bd-487f-9b60-0a30d06b2909 [following]\n",
      "Warning: wildcards not supported in HTTP.\n",
      "--2022-12-21 14:31:09--  https://doc-0k-68-docs.googleusercontent.com/docs/securesc/ha0ro937gcuc7l7deffksulhg5h7mbp1/46614tt3n3sel0l8a6ibrtnd3frkksmp/1671633000000/08807442732938955114/*/1Uqtx4Pnmkc8jmNxg8ICYTpxRH8F8S2YV?e=download&uuid=764b1485-03bd-487f-9b60-0a30d06b2909\n",
      "Resolving doc-0k-68-docs.googleusercontent.com (doc-0k-68-docs.googleusercontent.com)... 142.251.134.97, 2800:3f0:4004:800::2001\n",
      "Connecting to doc-0k-68-docs.googleusercontent.com (doc-0k-68-docs.googleusercontent.com)|142.251.134.97|:443... connected.\n",
      "HTTP request sent, awaiting response... 200 OK\n",
      "Length: 653721516 (623M) [text/csv]\n",
      "Saving to: ‘srag-2020.csv’\n",
      "\n",
      "srag-2020.csv       100%[===================>] 623.44M  7.50MB/s    in 1m 59s  \n",
      "\n",
      "2022-12-21 14:33:09 (5.23 MB/s) - ‘srag-2020.csv’ saved [653721516/653721516]\n",
      "\n"
     ]
    }
   ],
   "source": [
    "fileid=\"1Uqtx4Pnmkc8jmNxg8ICYTpxRH8F8S2YV\"\n",
    "filename=\"srag-2020.csv\"\n",
    "!wget --save-cookies cookies.txt 'https://drive.google.com/uc?export=download&id='$fileid -O- | sed -rn 's/.*confirm=([0-9A-Za-z_]+).*/\\1/p' > confirm.txt\n",
    "!wget --load-cookies cookies.txt -O $filename 'https://drive.google.com/uc?export=download&id='$fileid'&confirm='$(<confirm.txt)"
   ]
  },
  {
   "cell_type": "code",
   "execution_count": 2,
   "id": "851fa57e",
   "metadata": {
    "pycharm": {
     "name": "#%%\n"
    }
   },
   "outputs": [
    {
     "name": "stdout",
     "output_type": "stream",
     "text": [
      "Untitled.ipynb\t\t\t     ngl-pb-2020.csv   srag-2020.csv\r\n",
      "confirm.txt\t\t\t     ngl-pb-2021.csv   srag-2021.csv\r\n",
      "cookies.txt\t\t\t     ngl-pb-2022.csv   srag-2022.csv\r\n",
      "data-integration-covid-brasil.ipynb  processing.ipynb  vacinacao-covid-pb.csv\r\n"
     ]
    }
   ],
   "source": [
    "!ls"
   ]
  },
  {
   "cell_type": "markdown",
   "id": "f921801b",
   "metadata": {
    "pycharm": {
     "name": "#%% md\n"
    }
   },
   "source": [
    "### 2021"
   ]
  },
  {
   "cell_type": "code",
   "execution_count": 40,
   "id": "260ef4c4",
   "metadata": {
    "pycharm": {
     "name": "#%%\n"
    }
   },
   "outputs": [
    {
     "name": "stdout",
     "output_type": "stream",
     "text": [
      "--2022-12-18 17:43:25--  https://drive.google.com/uc?export=download&id=1UD4qC_p2heZPKuTEcVFp0dgjDS0FP5tQ\n",
      "Resolving drive.google.com (drive.google.com)... 142.251.129.78, 2800:3f0:4004:803::200e\n",
      "Connecting to drive.google.com (drive.google.com)|142.251.129.78|:443... connected.\n",
      "HTTP request sent, awaiting response... 200 OK\n",
      "Length: unspecified [text/html]\n",
      "Saving to: ‘STDOUT’\n",
      "\n",
      "-                       [ <=>                ]   2.23K  --.-KB/s    in 0s      \n",
      "\n",
      "2022-12-18 17:43:25 (15.8 MB/s) - written to stdout [2286]\n",
      "\n",
      "--2022-12-18 17:43:26--  https://drive.google.com/uc?export=download&id=1UD4qC_p2heZPKuTEcVFp0dgjDS0FP5tQ&confirm=\n",
      "Resolving drive.google.com (drive.google.com)... 142.251.129.78, 2800:3f0:4004:803::200e\n",
      "Connecting to drive.google.com (drive.google.com)|142.251.129.78|:443... connected.\n",
      "HTTP request sent, awaiting response... 303 See Other\n",
      "Location: https://doc-14-68-docs.googleusercontent.com/docs/securesc/ha0ro937gcuc7l7deffksulhg5h7mbp1/8cf24p1nnomc0a77ml1qla0lkmrk9o49/1671385350000/08807442732938955114/*/1UD4qC_p2heZPKuTEcVFp0dgjDS0FP5tQ?e=download&uuid=588d084c-060e-4f9e-97b2-276921c72ec6 [following]\n",
      "Warning: wildcards not supported in HTTP.\n",
      "--2022-12-18 17:43:27--  https://doc-14-68-docs.googleusercontent.com/docs/securesc/ha0ro937gcuc7l7deffksulhg5h7mbp1/8cf24p1nnomc0a77ml1qla0lkmrk9o49/1671385350000/08807442732938955114/*/1UD4qC_p2heZPKuTEcVFp0dgjDS0FP5tQ?e=download&uuid=588d084c-060e-4f9e-97b2-276921c72ec6\n",
      "Resolving doc-14-68-docs.googleusercontent.com (doc-14-68-docs.googleusercontent.com)... 142.251.133.161, 2800:3f0:4004:801::2001\n",
      "Connecting to doc-14-68-docs.googleusercontent.com (doc-14-68-docs.googleusercontent.com)|142.251.133.161|:443... connected.\n",
      "HTTP request sent, awaiting response... 200 OK\n",
      "Length: 1023378346 (976M) [text/csv]\n",
      "Saving to: ‘srag-2021.csv’\n",
      "\n",
      "srag-2021.csv       100%[===================>] 975.97M  13.2MB/s    in 77s     \n",
      "\n",
      "2022-12-18 17:44:44 (12.7 MB/s) - ‘srag-2021.csv’ saved [1023378346/1023378346]\n",
      "\n"
     ]
    }
   ],
   "source": [
    "fileid=\"1UD4qC_p2heZPKuTEcVFp0dgjDS0FP5tQ\"\n",
    "filename=\"srag-2021.csv\"\n",
    "!wget --save-cookies cookies.txt 'https://drive.google.com/uc?export=download&id='$fileid -O- | sed -rn 's/.*confirm=([0-9A-Za-z_]+).*/\\1/p' > confirm.txt\n",
    "!wget --load-cookies cookies.txt -O $filename 'https://drive.google.com/uc?export=download&id='$fileid'&confirm='$(<confirm.txt)"
   ]
  },
  {
   "cell_type": "code",
   "execution_count": 41,
   "id": "06318e93",
   "metadata": {
    "pycharm": {
     "name": "#%%\n"
    }
   },
   "outputs": [
    {
     "name": "stdout",
     "output_type": "stream",
     "text": [
      "confirm.txt  data-integration-covid-brasil.ipynb  srag-2021.csv\r\n",
      "cookies.txt  srag-2020.csv\r\n"
     ]
    }
   ],
   "source": [
    "!ls"
   ]
  },
  {
   "cell_type": "markdown",
   "id": "1a777c67",
   "metadata": {
    "pycharm": {
     "name": "#%% md\n"
    }
   },
   "source": [
    "### 2022"
   ]
  },
  {
   "cell_type": "code",
   "execution_count": 42,
   "id": "dc6384df",
   "metadata": {
    "pycharm": {
     "name": "#%%\n"
    }
   },
   "outputs": [
    {
     "name": "stdout",
     "output_type": "stream",
     "text": [
      "--2022-12-18 17:45:22--  https://drive.google.com/uc?export=download&id=1Rh2OJ9OO7JaxXC53XIOya4IloogQ22jW\n",
      "Resolving drive.google.com (drive.google.com)... 142.251.129.78, 2800:3f0:4004:810::200e\n",
      "Connecting to drive.google.com (drive.google.com)|142.251.129.78|:443... connected.\n",
      "HTTP request sent, awaiting response... 200 OK\n",
      "Length: unspecified [text/html]\n",
      "Saving to: ‘STDOUT’\n",
      "\n",
      "-                       [ <=>                ]   2.23K  --.-KB/s    in 0s      \n",
      "\n",
      "2022-12-18 17:45:22 (12.5 MB/s) - written to stdout [2286]\n",
      "\n",
      "--2022-12-18 17:45:23--  https://drive.google.com/uc?export=download&id=1Rh2OJ9OO7JaxXC53XIOya4IloogQ22jW&confirm=\n",
      "Resolving drive.google.com (drive.google.com)... 142.251.129.78, 2800:3f0:4004:810::200e\n",
      "Connecting to drive.google.com (drive.google.com)|142.251.129.78|:443... connected.\n",
      "HTTP request sent, awaiting response... 303 See Other\n",
      "Location: https://doc-0s-68-docs.googleusercontent.com/docs/securesc/ha0ro937gcuc7l7deffksulhg5h7mbp1/qhq37s8jufq91oldo7b4ggvrt0p4skfp/1671385500000/08807442732938955114/*/1Rh2OJ9OO7JaxXC53XIOya4IloogQ22jW?e=download&uuid=2f8c43c2-2c5a-4249-86eb-678b1a4a3cfe [following]\n",
      "Warning: wildcards not supported in HTTP.\n",
      "--2022-12-18 17:45:23--  https://doc-0s-68-docs.googleusercontent.com/docs/securesc/ha0ro937gcuc7l7deffksulhg5h7mbp1/qhq37s8jufq91oldo7b4ggvrt0p4skfp/1671385500000/08807442732938955114/*/1Rh2OJ9OO7JaxXC53XIOya4IloogQ22jW?e=download&uuid=2f8c43c2-2c5a-4249-86eb-678b1a4a3cfe\n",
      "Resolving doc-0s-68-docs.googleusercontent.com (doc-0s-68-docs.googleusercontent.com)... 142.251.134.129, 2800:3f0:4004:805::2001\n",
      "Connecting to doc-0s-68-docs.googleusercontent.com (doc-0s-68-docs.googleusercontent.com)|142.251.134.129|:443... connected.\n",
      "HTTP request sent, awaiting response... 200 OK\n",
      "Length: 317423743 (303M) [text/csv]\n",
      "Saving to: ‘srag-2022.csv’\n",
      "\n",
      "srag-2022.csv       100%[===================>] 302.72M  12.5MB/s    in 24s     \n",
      "\n",
      "2022-12-18 17:45:49 (12.7 MB/s) - ‘srag-2022.csv’ saved [317423743/317423743]\n",
      "\n"
     ]
    }
   ],
   "source": [
    "fileid=\"1Rh2OJ9OO7JaxXC53XIOya4IloogQ22jW\"\n",
    "filename=\"srag-2022.csv\"\n",
    "!wget --save-cookies cookies.txt 'https://drive.google.com/uc?export=download&id='$fileid -O- | sed -rn 's/.*confirm=([0-9A-Za-z_]+).*/\\1/p' > confirm.txt\n",
    "!wget --load-cookies cookies.txt -O $filename 'https://drive.google.com/uc?export=download&id='$fileid'&confirm='$(<confirm.txt)"
   ]
  },
  {
   "cell_type": "code",
   "execution_count": 43,
   "id": "0cc35c0e",
   "metadata": {
    "pycharm": {
     "name": "#%%\n"
    }
   },
   "outputs": [
    {
     "name": "stdout",
     "output_type": "stream",
     "text": [
      "confirm.txt  data-integration-covid-brasil.ipynb  srag-2021.csv\r\n",
      "cookies.txt  srag-2020.csv\t\t\t  srag-2022.csv\r\n"
     ]
    }
   ],
   "source": [
    "!ls"
   ]
  },
  {
   "cell_type": "markdown",
   "id": "f5f0aa73",
   "metadata": {
    "pycharm": {
     "name": "#%% md\n"
    }
   },
   "source": [
    "## Notificações de Síndrome Gripal (Estado da Paraíba)"
   ]
  },
  {
   "cell_type": "markdown",
   "id": "1bb5ec6b",
   "metadata": {
    "pycharm": {
     "name": "#%% md\n"
    }
   },
   "source": [
    "### Downloads"
   ]
  },
  {
   "cell_type": "markdown",
   "id": "35b76339",
   "metadata": {
    "pycharm": {
     "name": "#%% md\n"
    }
   },
   "source": [
    "### 2020"
   ]
  },
  {
   "cell_type": "code",
   "execution_count": 44,
   "id": "ab48c5b0",
   "metadata": {
    "pycharm": {
     "name": "#%%\n"
    }
   },
   "outputs": [
    {
     "name": "stdout",
     "output_type": "stream",
     "text": [
      "--2022-12-18 17:46:09--  https://drive.google.com/uc?export=download&id=1XUbwbeYXUkYSdO1rxbQ3BPr8ESKBv-9m\n",
      "Resolving drive.google.com (drive.google.com)... 142.251.129.78, 2800:3f0:4004:810::200e\n",
      "Connecting to drive.google.com (drive.google.com)|142.251.129.78|:443... connected.\n",
      "HTTP request sent, awaiting response... 200 OK\n",
      "Length: unspecified [text/html]\n",
      "Saving to: ‘STDOUT’\n",
      "\n",
      "-                       [ <=>                ]   2.23K  --.-KB/s    in 0s      \n",
      "\n",
      "2022-12-18 17:46:10 (47.6 MB/s) - written to stdout [2283]\n",
      "\n",
      "--2022-12-18 17:46:11--  https://drive.google.com/uc?export=download&id=1XUbwbeYXUkYSdO1rxbQ3BPr8ESKBv-9m&confirm=\n",
      "Resolving drive.google.com (drive.google.com)... 142.251.129.78, 2800:3f0:4004:810::200e\n",
      "Connecting to drive.google.com (drive.google.com)|142.251.129.78|:443... connected.\n",
      "HTTP request sent, awaiting response... 303 See Other\n",
      "Location: https://doc-0o-68-docs.googleusercontent.com/docs/securesc/ha0ro937gcuc7l7deffksulhg5h7mbp1/ttspan32ts4n1iqrb8jde7epv9ke0rek/1671385500000/08807442732938955114/*/1XUbwbeYXUkYSdO1rxbQ3BPr8ESKBv-9m?e=download&uuid=5088e79d-e237-499c-b949-793ec984b3f7 [following]\n",
      "Warning: wildcards not supported in HTTP.\n",
      "--2022-12-18 17:46:11--  https://doc-0o-68-docs.googleusercontent.com/docs/securesc/ha0ro937gcuc7l7deffksulhg5h7mbp1/ttspan32ts4n1iqrb8jde7epv9ke0rek/1671385500000/08807442732938955114/*/1XUbwbeYXUkYSdO1rxbQ3BPr8ESKBv-9m?e=download&uuid=5088e79d-e237-499c-b949-793ec984b3f7\n",
      "Resolving doc-0o-68-docs.googleusercontent.com (doc-0o-68-docs.googleusercontent.com)... 142.251.133.161, 2800:3f0:4004:805::2001\n",
      "Connecting to doc-0o-68-docs.googleusercontent.com (doc-0o-68-docs.googleusercontent.com)|142.251.133.161|:443... connected.\n",
      "HTTP request sent, awaiting response... 200 OK\n",
      "Length: 261068774 (249M) [text/csv]\n",
      "Saving to: ‘ngl-pb-2020.csv’\n",
      "\n",
      "ngl-pb-2020.csv     100%[===================>] 248.97M  15.2MB/s    in 20s     \n",
      "\n",
      "2022-12-18 17:46:32 (12.6 MB/s) - ‘ngl-pb-2020.csv’ saved [261068774/261068774]\n",
      "\n"
     ]
    }
   ],
   "source": [
    "fileid=\"1XUbwbeYXUkYSdO1rxbQ3BPr8ESKBv-9m\"\n",
    "filename=\"ngl-pb-2020.csv\"\n",
    "!wget --save-cookies cookies.txt 'https://drive.google.com/uc?export=download&id='$fileid -O- | sed -rn 's/.*confirm=([0-9A-Za-z_]+).*/\\1/p' > confirm.txt\n",
    "!wget --load-cookies cookies.txt -O $filename 'https://drive.google.com/uc?export=download&id='$fileid'&confirm='$(<confirm.txt)"
   ]
  },
  {
   "cell_type": "code",
   "execution_count": 45,
   "id": "c37ca739",
   "metadata": {
    "pycharm": {
     "name": "#%%\n"
    }
   },
   "outputs": [
    {
     "name": "stdout",
     "output_type": "stream",
     "text": [
      "confirm.txt  data-integration-covid-brasil.ipynb  srag-2020.csv  srag-2022.csv\r\n",
      "cookies.txt  ngl-pb-2020.csv\t\t\t  srag-2021.csv\r\n"
     ]
    }
   ],
   "source": [
    "!ls"
   ]
  },
  {
   "cell_type": "markdown",
   "id": "5fd275fb",
   "metadata": {
    "pycharm": {
     "name": "#%% md\n"
    }
   },
   "source": [
    "### 2021"
   ]
  },
  {
   "cell_type": "code",
   "execution_count": 46,
   "id": "734aaedb",
   "metadata": {
    "pycharm": {
     "name": "#%%\n"
    }
   },
   "outputs": [
    {
     "name": "stdout",
     "output_type": "stream",
     "text": [
      "--2022-12-18 17:46:35--  https://drive.google.com/uc?export=download&id=1vyklNzA1NY11wokKV2tdgFoogady72iY\n",
      "Resolving drive.google.com (drive.google.com)... 142.251.129.78, 2800:3f0:4004:810::200e\n",
      "Connecting to drive.google.com (drive.google.com)|142.251.129.78|:443... connected.\n",
      "HTTP request sent, awaiting response... 200 OK\n",
      "Length: unspecified [text/html]\n",
      "Saving to: ‘STDOUT’\n",
      "\n",
      "-                       [ <=>                ]   2.22K  --.-KB/s    in 0s      \n",
      "\n",
      "2022-12-18 17:46:36 (16.6 MB/s) - written to stdout [2278]\n",
      "\n",
      "--2022-12-18 17:46:37--  https://drive.google.com/uc?export=download&id=1vyklNzA1NY11wokKV2tdgFoogady72iY&confirm=\n",
      "Resolving drive.google.com (drive.google.com)... 142.251.129.78, 2800:3f0:4004:810::200e\n",
      "Connecting to drive.google.com (drive.google.com)|142.251.129.78|:443... connected.\n",
      "HTTP request sent, awaiting response... 303 See Other\n",
      "Location: https://doc-04-4c-docs.googleusercontent.com/docs/securesc/ha0ro937gcuc7l7deffksulhg5h7mbp1/i0i6vbdp4mtt3n0dhkpdeok8tum6qag3/1671385575000/01962943998683751280/*/1vyklNzA1NY11wokKV2tdgFoogady72iY?e=download&uuid=98d0df33-7e47-4401-9701-d3feb497e9a6 [following]\n",
      "Warning: wildcards not supported in HTTP.\n",
      "--2022-12-18 17:46:37--  https://doc-04-4c-docs.googleusercontent.com/docs/securesc/ha0ro937gcuc7l7deffksulhg5h7mbp1/i0i6vbdp4mtt3n0dhkpdeok8tum6qag3/1671385575000/01962943998683751280/*/1vyklNzA1NY11wokKV2tdgFoogady72iY?e=download&uuid=98d0df33-7e47-4401-9701-d3feb497e9a6\n",
      "Resolving doc-04-4c-docs.googleusercontent.com (doc-04-4c-docs.googleusercontent.com)... 142.251.134.129, 2800:3f0:4004:805::2001\n",
      "Connecting to doc-04-4c-docs.googleusercontent.com (doc-04-4c-docs.googleusercontent.com)|142.251.134.129|:443... connected.\n",
      "HTTP request sent, awaiting response... 200 OK\n",
      "Length: 389657903 (372M) [text/csv]\n",
      "Saving to: ‘ngl-pb-2021.csv’\n",
      "\n",
      "ngl-pb-2021.csv     100%[===================>] 371.61M  14.2MB/s    in 29s     \n",
      "\n",
      "2022-12-18 17:47:07 (13.0 MB/s) - ‘ngl-pb-2021.csv’ saved [389657903/389657903]\n",
      "\n"
     ]
    }
   ],
   "source": [
    "fileid=\"1vyklNzA1NY11wokKV2tdgFoogady72iY\"\n",
    "filename=\"ngl-pb-2021.csv\"\n",
    "!wget --save-cookies cookies.txt 'https://drive.google.com/uc?export=download&id='$fileid -O- | sed -rn 's/.*confirm=([0-9A-Za-z_]+).*/\\1/p' > confirm.txt\n",
    "!wget --load-cookies cookies.txt -O $filename 'https://drive.google.com/uc?export=download&id='$fileid'&confirm='$(<confirm.txt)"
   ]
  },
  {
   "cell_type": "code",
   "execution_count": 47,
   "id": "8fd02100",
   "metadata": {
    "pycharm": {
     "name": "#%%\n"
    }
   },
   "outputs": [
    {
     "name": "stdout",
     "output_type": "stream",
     "text": [
      "confirm.txt\t\t\t     ngl-pb-2020.csv  srag-2021.csv\r\n",
      "cookies.txt\t\t\t     ngl-pb-2021.csv  srag-2022.csv\r\n",
      "data-integration-covid-brasil.ipynb  srag-2020.csv\r\n"
     ]
    }
   ],
   "source": [
    "!ls"
   ]
  },
  {
   "cell_type": "markdown",
   "id": "452bbf5c",
   "metadata": {
    "pycharm": {
     "name": "#%% md\n"
    }
   },
   "source": [
    "### 2022"
   ]
  },
  {
   "cell_type": "code",
   "execution_count": 48,
   "id": "a41aab8c",
   "metadata": {
    "pycharm": {
     "name": "#%%\n"
    }
   },
   "outputs": [
    {
     "name": "stdout",
     "output_type": "stream",
     "text": [
      "--2022-12-18 17:47:52--  https://drive.google.com/uc?export=download&id=1EcxJ_8BqjcuguxieX5O2Vuyo-Bm6Cdk3\n",
      "Resolving drive.google.com (drive.google.com)... 142.251.129.78, 2800:3f0:4004:810::200e\n",
      "Connecting to drive.google.com (drive.google.com)|142.251.129.78|:443... connected.\n",
      "HTTP request sent, awaiting response... 200 OK\n",
      "Length: unspecified [text/html]\n",
      "Saving to: ‘STDOUT’\n",
      "\n",
      "-                       [ <=>                ]   2.23K  --.-KB/s    in 0.001s  \n",
      "\n",
      "2022-12-18 17:47:52 (4.32 MB/s) - written to stdout [2283]\n",
      "\n",
      "--2022-12-18 17:47:53--  https://drive.google.com/uc?export=download&id=1EcxJ_8BqjcuguxieX5O2Vuyo-Bm6Cdk3&confirm=\n",
      "Resolving drive.google.com (drive.google.com)... 142.251.129.78, 2800:3f0:4004:810::200e\n",
      "Connecting to drive.google.com (drive.google.com)|142.251.129.78|:443... connected.\n",
      "HTTP request sent, awaiting response... 303 See Other\n",
      "Location: https://doc-0k-68-docs.googleusercontent.com/docs/securesc/ha0ro937gcuc7l7deffksulhg5h7mbp1/eedcor387auma9mjg1m73clkkskkah00/1671385650000/08807442732938955114/*/1EcxJ_8BqjcuguxieX5O2Vuyo-Bm6Cdk3?e=download&uuid=fe63dca1-510d-4208-856d-be64bc7f6aa9 [following]\n",
      "Warning: wildcards not supported in HTTP.\n",
      "--2022-12-18 17:47:54--  https://doc-0k-68-docs.googleusercontent.com/docs/securesc/ha0ro937gcuc7l7deffksulhg5h7mbp1/eedcor387auma9mjg1m73clkkskkah00/1671385650000/08807442732938955114/*/1EcxJ_8BqjcuguxieX5O2Vuyo-Bm6Cdk3?e=download&uuid=fe63dca1-510d-4208-856d-be64bc7f6aa9\n",
      "Resolving doc-0k-68-docs.googleusercontent.com (doc-0k-68-docs.googleusercontent.com)... 142.251.134.129, 2800:3f0:4004:805::2001\n",
      "Connecting to doc-0k-68-docs.googleusercontent.com (doc-0k-68-docs.googleusercontent.com)|142.251.134.129|:443... connected.\n",
      "HTTP request sent, awaiting response... 200 OK\n",
      "Length: 191039161 (182M) [text/csv]\n",
      "Saving to: ‘ngl-pb-2022.csv’\n",
      "\n",
      "ngl-pb-2022.csv     100%[===================>] 182.19M  11.0MB/s    in 15s     \n",
      "\n",
      "2022-12-18 17:48:10 (11.9 MB/s) - ‘ngl-pb-2022.csv’ saved [191039161/191039161]\n",
      "\n"
     ]
    }
   ],
   "source": [
    "fileid=\"1EcxJ_8BqjcuguxieX5O2Vuyo-Bm6Cdk3\"\n",
    "filename=\"ngl-pb-2022.csv\"\n",
    "!wget --save-cookies cookies.txt 'https://drive.google.com/uc?export=download&id='$fileid -O- | sed -rn 's/.*confirm=([0-9A-Za-z_]+).*/\\1/p' > confirm.txt\n",
    "!wget --load-cookies cookies.txt -O $filename 'https://drive.google.com/uc?export=download&id='$fileid'&confirm='$(<confirm.txt)"
   ]
  },
  {
   "cell_type": "code",
   "execution_count": 49,
   "id": "eb5fa6e0",
   "metadata": {
    "pycharm": {
     "name": "#%%\n"
    }
   },
   "outputs": [
    {
     "name": "stdout",
     "output_type": "stream",
     "text": [
      "confirm.txt\t\t\t     ngl-pb-2020.csv  srag-2020.csv\r\n",
      "cookies.txt\t\t\t     ngl-pb-2021.csv  srag-2021.csv\r\n",
      "data-integration-covid-brasil.ipynb  ngl-pb-2022.csv  srag-2022.csv\r\n"
     ]
    }
   ],
   "source": [
    "!ls"
   ]
  },
  {
   "cell_type": "markdown",
   "id": "e2670c96",
   "metadata": {
    "pycharm": {
     "name": "#%% md\n"
    }
   },
   "source": [
    "## Campanha Nacional de Vacinação contra a Covid-19 (Estado da Paraíba)"
   ]
  },
  {
   "cell_type": "markdown",
   "id": "a78d2180",
   "metadata": {
    "pycharm": {
     "name": "#%% md\n"
    }
   },
   "source": [
    "### Downloads"
   ]
  },
  {
   "cell_type": "code",
   "execution_count": 50,
   "id": "71d6c23d",
   "metadata": {
    "pycharm": {
     "name": "#%%\n"
    }
   },
   "outputs": [
    {
     "name": "stdout",
     "output_type": "stream",
     "text": [
      "--2022-12-18 17:48:16--  https://drive.google.com/uc?export=download&id=1KpZfZzHsFDSEP2OGGXOc42SPOQEguKuK\n",
      "Resolving drive.google.com (drive.google.com)... 142.251.129.78, 2800:3f0:4004:810::200e\n",
      "Connecting to drive.google.com (drive.google.com)|142.251.129.78|:443... connected.\n",
      "HTTP request sent, awaiting response... 200 OK\n",
      "Length: unspecified [text/html]\n",
      "Saving to: ‘STDOUT’\n",
      "\n",
      "-                       [ <=>                ]   2.23K  --.-KB/s    in 0s      \n",
      "\n",
      "2022-12-18 17:48:17 (15.5 MB/s) - written to stdout [2284]\n",
      "\n",
      "--2022-12-18 17:48:17--  https://drive.google.com/uc?export=download&id=1KpZfZzHsFDSEP2OGGXOc42SPOQEguKuK&confirm=\n",
      "Resolving drive.google.com (drive.google.com)... 142.251.129.78, 2800:3f0:4004:810::200e\n",
      "Connecting to drive.google.com (drive.google.com)|142.251.129.78|:443... connected.\n",
      "HTTP request sent, awaiting response... 303 See Other\n",
      "Location: https://doc-14-68-docs.googleusercontent.com/docs/securesc/ha0ro937gcuc7l7deffksulhg5h7mbp1/qb301p6257hf08ptb4a3pgl5njce34gs/1671385650000/08807442732938955114/*/1KpZfZzHsFDSEP2OGGXOc42SPOQEguKuK?e=download&uuid=732f029b-bfeb-4e49-8883-01f844b2146f [following]\n",
      "Warning: wildcards not supported in HTTP.\n",
      "--2022-12-18 17:48:18--  https://doc-14-68-docs.googleusercontent.com/docs/securesc/ha0ro937gcuc7l7deffksulhg5h7mbp1/qb301p6257hf08ptb4a3pgl5njce34gs/1671385650000/08807442732938955114/*/1KpZfZzHsFDSEP2OGGXOc42SPOQEguKuK?e=download&uuid=732f029b-bfeb-4e49-8883-01f844b2146f\n",
      "Resolving doc-14-68-docs.googleusercontent.com (doc-14-68-docs.googleusercontent.com)... 142.251.134.129, 2800:3f0:4004:805::2001\n",
      "Connecting to doc-14-68-docs.googleusercontent.com (doc-14-68-docs.googleusercontent.com)|142.251.134.129|:443... connected.\n",
      "HTTP request sent, awaiting response... 200 OK\n",
      "Length: 1540465908 (1.4G) [text/csv]\n",
      "Saving to: ‘vacinacao-covid-pb.csv’\n",
      "\n",
      "vacinacao-covid-pb. 100%[===================>]   1.43G  15.1MB/s    in 1m 53s  \n",
      "\n",
      "2022-12-18 17:50:11 (13.1 MB/s) - ‘vacinacao-covid-pb.csv’ saved [1540465908/1540465908]\n",
      "\n"
     ]
    }
   ],
   "source": [
    "fileid=\"1KpZfZzHsFDSEP2OGGXOc42SPOQEguKuK\"\n",
    "filename=\"vacinacao-covid-pb.csv\"\n",
    "!wget --save-cookies cookies.txt 'https://drive.google.com/uc?export=download&id='$fileid -O- | sed -rn 's/.*confirm=([0-9A-Za-z_]+).*/\\1/p' > confirm.txt\n",
    "!wget --load-cookies cookies.txt -O $filename 'https://drive.google.com/uc?export=download&id='$fileid'&confirm='$(<confirm.txt)"
   ]
  },
  {
   "cell_type": "code",
   "execution_count": 51,
   "id": "bfe7b2fa",
   "metadata": {
    "pycharm": {
     "name": "#%%\n"
    }
   },
   "outputs": [
    {
     "name": "stdout",
     "output_type": "stream",
     "text": [
      "confirm.txt\t\t\t     ngl-pb-2021.csv  srag-2022.csv\r\n",
      "cookies.txt\t\t\t     ngl-pb-2022.csv  vacinacao-covid-pb.csv\r\n",
      "data-integration-covid-brasil.ipynb  srag-2020.csv\r\n",
      "ngl-pb-2020.csv\t\t\t     srag-2021.csv\r\n"
     ]
    }
   ],
   "source": [
    "!ls"
   ]
  },
  {
   "cell_type": "code",
   "execution_count": null,
   "id": "348baba6",
   "metadata": {
    "pycharm": {
     "name": "#%%\n"
    }
   },
   "outputs": [],
   "source": []
  }
 ],
 "metadata": {
  "kernelspec": {
   "display_name": "Python 3 (ipykernel)",
   "language": "python",
   "name": "python3"
  },
  "language_info": {
   "codemirror_mode": {
    "name": "ipython",
    "version": 3
   },
   "file_extension": ".py",
   "mimetype": "text/x-python",
   "name": "python",
   "nbconvert_exporter": "python",
   "pygments_lexer": "ipython3",
   "version": "3.9.13"
  }
 },
 "nbformat": 4,
 "nbformat_minor": 5
}