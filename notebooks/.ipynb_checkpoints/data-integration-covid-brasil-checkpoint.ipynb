{
 "cells": [
  {
   "cell_type": "markdown",
   "id": "709b076f",
   "metadata": {},
   "source": [
    "# data-integration-covid-brasil"
   ]
  },
  {
   "cell_type": "markdown",
   "id": "731974b7",
   "metadata": {},
   "source": [
    "# Data Pipelines"
   ]
  },
  {
   "cell_type": "markdown",
   "id": "437b8571",
   "metadata": {},
   "source": [
    "## Banco de dados de síndrome respiratória aguda grave - incluindo dados do COVID-19"
   ]
  },
  {
   "cell_type": "markdown",
   "id": "ac773f56",
   "metadata": {},
   "source": [
    "### Downloads"
   ]
  },
  {
   "cell_type": "markdown",
   "id": "ab04b5ce",
   "metadata": {},
   "source": [
    "### 2020"
   ]
  },
  {
   "cell_type": "code",
   "execution_count": 35,
   "id": "ea8870c2",
   "metadata": {},
   "outputs": [
    {
     "name": "stdout",
     "output_type": "stream",
     "text": [
      "--2022-12-18 17:36:05--  https://drive.google.com/uc?export=download&id=1Uqtx4Pnmkc8jmNxg8ICYTpxRH8F8S2YV\n",
      "Resolving drive.google.com (drive.google.com)... 142.251.129.78, 2800:3f0:4004:803::200e\n",
      "Connecting to drive.google.com (drive.google.com)|142.251.129.78|:443... connected.\n",
      "HTTP request sent, awaiting response... 200 OK\n",
      "Length: unspecified [text/html]\n",
      "Saving to: ‘STDOUT’\n",
      "\n",
      "-                       [ <=>                ]   2.23K  --.-KB/s    in 0s      \n",
      "\n",
      "2022-12-18 17:36:06 (5.35 MB/s) - written to stdout [2286]\n",
      "\n"
     ]
    }
   ],
   "source": [
    "fileid=\"1Uqtx4Pnmkc8jmNxg8ICYTpxRH8F8S2YV\"\n",
    "filename=\"srag-2020.csv\"\n",
    "!wget --save-cookies cookies.txt 'https://drive.google.com/uc?export=download&id='$fileid -O- | sed -rn 's/.*confirm=([0-9A-Za-z_]+).*/\\1/p' > confirm.txt\n",
    "!wget --load-cookies cookies.txt -O $filename 'https://drive.google.com/uc?export=download&id='$fileid'&confirm='$(<confirm.txt)"
   ]
  },
  {
   "cell_type": "code",
   "execution_count": 2,
   "id": "851fa57e",
   "metadata": {},
   "outputs": [
    {
     "name": "stdout",
     "output_type": "stream",
     "text": [
      "INFLUD20-14-11-2022.csv  data-integration-covid-brasil.ipynb\r\n"
     ]
    }
   ],
   "source": [
    "!ls"
   ]
  },
  {
   "cell_type": "markdown",
   "id": "f921801b",
   "metadata": {},
   "source": [
    "### 2021"
   ]
  },
  {
   "cell_type": "code",
   "execution_count": 5,
   "id": "260ef4c4",
   "metadata": {},
   "outputs": [
    {
     "name": "stdout",
     "output_type": "stream",
     "text": [
      "--2022-12-18 00:51:11--  https://s3.sa-east-1.amazonaws.com/ckan.saude.gov.br/SRAG/2021/INFLUD21-14-11-2022.csv\n",
      "Resolving s3.sa-east-1.amazonaws.com (s3.sa-east-1.amazonaws.com)... 16.12.2.16\n",
      "Connecting to s3.sa-east-1.amazonaws.com (s3.sa-east-1.amazonaws.com)|16.12.2.16|:443... connected.\n",
      "HTTP request sent, awaiting response... 200 OK\n",
      "Length: 1023378346 (976M) [text/csv]\n",
      "Saving to: ‘INFLUD21-14-11-2022.csv’\n",
      "\n",
      "INFLUD21-14-11-2022 100%[===================>] 975.97M  11.1MB/s    in 88s     \n",
      "\n",
      "2022-12-18 00:52:39 (11.1 MB/s) - ‘INFLUD21-14-11-2022.csv’ saved [1023378346/1023378346]\n",
      "\n"
     ]
    }
   ],
   "source": [
    "fileid=\"1UD4qC_p2heZPKuTEcVFp0dgjDS0FP5tQ\"\n",
    "filename=\"srag-2021.csv\"\n",
    "!wget --save-cookies cookies.txt 'https://drive.google.com/uc?export=download&id='$fileid -O- | sed -rn 's/.*confirm=([0-9A-Za-z_]+).*/\\1/p' > confirm.txt\n",
    "!wget --load-cookies cookies.txt -O $filename 'https://drive.google.com/uc?export=download&id='$fileid'&confirm='$(<confirm.txt)"
   ]
  },
  {
   "cell_type": "code",
   "execution_count": 6,
   "id": "06318e93",
   "metadata": {},
   "outputs": [
    {
     "name": "stdout",
     "output_type": "stream",
     "text": [
      "INFLUD21-14-11-2022.csv  data-integration-covid-brasil.ipynb  srag-2020.csv\r\n"
     ]
    }
   ],
   "source": [
    "!ls"
   ]
  },
  {
   "cell_type": "markdown",
   "id": "1a777c67",
   "metadata": {},
   "source": [
    "### 2022"
   ]
  },
  {
   "cell_type": "code",
   "execution_count": 9,
   "id": "dc6384df",
   "metadata": {},
   "outputs": [
    {
     "name": "stdout",
     "output_type": "stream",
     "text": [
      "--2022-12-18 00:53:22--  https://s3.sa-east-1.amazonaws.com/ckan.saude.gov.br/SRAG/2022/INFLUD22-14-11-2022.csv\n",
      "Resolving s3.sa-east-1.amazonaws.com (s3.sa-east-1.amazonaws.com)... 52.95.165.92\n",
      "Connecting to s3.sa-east-1.amazonaws.com (s3.sa-east-1.amazonaws.com)|52.95.165.92|:443... connected.\n",
      "HTTP request sent, awaiting response... 200 OK\n",
      "Length: 317423743 (303M) [text/csv]\n",
      "Saving to: ‘INFLUD22-14-11-2022.csv’\n",
      "\n",
      "INFLUD22-14-11-2022 100%[===================>] 302.72M  8.79MB/s    in 34s     \n",
      "\n",
      "2022-12-18 00:53:56 (8.90 MB/s) - ‘INFLUD22-14-11-2022.csv’ saved [317423743/317423743]\n",
      "\n"
     ]
    }
   ],
   "source": [
    "fileid=\"1Rh2OJ9OO7JaxXC53XIOya4IloogQ22jW\"\n",
    "filename=\"srag-2022.csv\"\n",
    "!wget --save-cookies cookies.txt 'https://drive.google.com/uc?export=download&id='$fileid -O- | sed -rn 's/.*confirm=([0-9A-Za-z_]+).*/\\1/p' > confirm.txt\n",
    "!wget --load-cookies cookies.txt -O $filename 'https://drive.google.com/uc?export=download&id='$fileid'&confirm='$(<confirm.txt)"
   ]
  },
  {
   "cell_type": "code",
   "execution_count": 10,
   "id": "0cc35c0e",
   "metadata": {},
   "outputs": [
    {
     "name": "stdout",
     "output_type": "stream",
     "text": [
      "INFLUD22-14-11-2022.csv\t\t     srag-2020.csv\r\n",
      "data-integration-covid-brasil.ipynb  srag-2021.csv\r\n"
     ]
    }
   ],
   "source": [
    "!ls"
   ]
  },
  {
   "cell_type": "markdown",
   "id": "f5f0aa73",
   "metadata": {},
   "source": [
    "## Notificações de Síndrome Gripal (Estado da Paraíba)"
   ]
  },
  {
   "cell_type": "markdown",
   "id": "1bb5ec6b",
   "metadata": {},
   "source": [
    "### Downloads"
   ]
  },
  {
   "cell_type": "markdown",
   "id": "35b76339",
   "metadata": {},
   "source": [
    "### 2020"
   ]
  },
  {
   "cell_type": "code",
   "execution_count": 36,
   "id": "ab48c5b0",
   "metadata": {},
   "outputs": [
    {
     "name": "stdout",
     "output_type": "stream",
     "text": [
      "--2022-12-18 17:38:05--  https://drive.google.com/uc?id=1XUbwbeYXUkYSdO1rxbQ3BPr8ESKBv-9m\n",
      "Resolving drive.google.com (drive.google.com)... 142.250.78.238, 2800:3f0:4004:803::200e\n",
      "Connecting to drive.google.com (drive.google.com)|142.250.78.238|:443... connected.\n",
      "HTTP request sent, awaiting response... 200 OK\n",
      "Length: unspecified [text/html]\n",
      "Saving to: ‘uc?id=1XUbwbeYXUkYSdO1rxbQ3BPr8ESKBv-9m’\n",
      "\n",
      "uc?id=1XUbwbeYXUkYS     [ <=>                ]   2.21K  --.-KB/s    in 0s      \n",
      "\n",
      "2022-12-18 17:38:05 (8.15 MB/s) - ‘uc?id=1XUbwbeYXUkYSdO1rxbQ3BPr8ESKBv-9m’ saved [2263]\n",
      "\n"
     ]
    }
   ],
   "source": [
    "fileid=\"1XUbwbeYXUkYSdO1rxbQ3BPr8ESKBv-9m\"\n",
    "filename=\"ngl-pb-2020.csv\"\n",
    "!wget --save-cookies cookies.txt 'https://drive.google.com/uc?export=download&id='$fileid -O- | sed -rn 's/.*confirm=([0-9A-Za-z_]+).*/\\1/p' > confirm.txt\n",
    "!wget --load-cookies cookies.txt -O $filename 'https://drive.google.com/uc?export=download&id='$fileid'&confirm='$(<confirm.txt)"
   ]
  },
  {
   "cell_type": "code",
   "execution_count": 14,
   "id": "c37ca739",
   "metadata": {},
   "outputs": [
    {
     "name": "stdout",
     "output_type": "stream",
     "text": [
      "data-integration-covid-brasil.ipynb\t\t\t  srag-2021.csv\r\n",
      "part-00000-98c07771-b33f-431c-b1fe-eed05d8301e5.c000.csv  srag-2022.csv\r\n",
      "srag-2020.csv\r\n"
     ]
    }
   ],
   "source": [
    "!ls"
   ]
  },
  {
   "cell_type": "markdown",
   "id": "5fd275fb",
   "metadata": {},
   "source": [
    "### 2021"
   ]
  },
  {
   "cell_type": "code",
   "execution_count": 17,
   "id": "734aaedb",
   "metadata": {},
   "outputs": [
    {
     "name": "stdout",
     "output_type": "stream",
     "text": [
      "--2022-12-18 00:56:03--  https://s3.sa-east-1.amazonaws.com/ckan.saude.gov.br/SGL/2021/uf=PB/lote=1/part-00000-a7c7dcd3-9bba-492a-877d-a85497fc9985.c000.csv\n",
      "Resolving s3.sa-east-1.amazonaws.com (s3.sa-east-1.amazonaws.com)... 52.95.165.92\n",
      "Connecting to s3.sa-east-1.amazonaws.com (s3.sa-east-1.amazonaws.com)|52.95.165.92|:443... connected.\n",
      "HTTP request sent, awaiting response... 403 Forbidden\n",
      "2022-12-18 00:56:03 ERROR 403: Forbidden.\n",
      "\n"
     ]
    }
   ],
   "source": [
    "fileid=\"1vyklNzA1NY11wokKV2tdgFoogady72iY\"\n",
    "filename=\"ngl-pb-2021.csv\"\n",
    "!wget --save-cookies cookies.txt 'https://drive.google.com/uc?export=download&id='$fileid -O- | sed -rn 's/.*confirm=([0-9A-Za-z_]+).*/\\1/p' > confirm.txt\n",
    "!wget --load-cookies cookies.txt -O $filename 'https://drive.google.com/uc?export=download&id='$fileid'&confirm='$(<confirm.txt)"
   ]
  },
  {
   "cell_type": "code",
   "execution_count": 18,
   "id": "8fd02100",
   "metadata": {},
   "outputs": [
    {
     "name": "stdout",
     "output_type": "stream",
     "text": [
      "data-integration-covid-brasil.ipynb  srag-2020.csv  srag-2022.csv\r\n",
      "ngl-pb-2020.csv\t\t\t     srag-2021.csv\r\n"
     ]
    }
   ],
   "source": [
    "!ls"
   ]
  },
  {
   "cell_type": "markdown",
   "id": "452bbf5c",
   "metadata": {},
   "source": [
    "### 2022"
   ]
  },
  {
   "cell_type": "code",
   "execution_count": 37,
   "id": "a41aab8c",
   "metadata": {},
   "outputs": [
    {
     "name": "stdout",
     "output_type": "stream",
     "text": [
      "--2022-12-18 17:39:14--  https://drive.google.com/uc?id=1EcxJ_8BqjcuguxieX5O2Vuyo-Bm6Cdk3\n",
      "Resolving drive.google.com (drive.google.com)... 142.250.78.238, 2800:3f0:4004:803::200e\n",
      "Connecting to drive.google.com (drive.google.com)|142.250.78.238|:443... connected.\n",
      "HTTP request sent, awaiting response... 200 OK\n",
      "Length: unspecified [text/html]\n",
      "Saving to: ‘uc?id=1EcxJ_8BqjcuguxieX5O2Vuyo-Bm6Cdk3’\n",
      "\n",
      "uc?id=1EcxJ_8Bqjcug     [ <=>                ]   2.21K  --.-KB/s    in 0.001s  \n",
      "\n",
      "2022-12-18 17:39:15 (2.68 MB/s) - ‘uc?id=1EcxJ_8BqjcuguxieX5O2Vuyo-Bm6Cdk3’ saved [2263]\n",
      "\n"
     ]
    }
   ],
   "source": [
    "fileid=\"1EcxJ_8BqjcuguxieX5O2Vuyo-Bm6Cdk3\"\n",
    "filename=\"ngl-pb-2022.csv\"\n",
    "!wget --save-cookies cookies.txt 'https://drive.google.com/uc?export=download&id='$fileid -O- | sed -rn 's/.*confirm=([0-9A-Za-z_]+).*/\\1/p' > confirm.txt\n",
    "!wget --load-cookies cookies.txt -O $filename 'https://drive.google.com/uc?export=download&id='$fileid'&confirm='$(<confirm.txt)"
   ]
  },
  {
   "cell_type": "code",
   "execution_count": 20,
   "id": "eb5fa6e0",
   "metadata": {},
   "outputs": [
    {
     "name": "stdout",
     "output_type": "stream",
     "text": [
      "data-integration-covid-brasil.ipynb  srag-2020.csv  srag-2022.csv\r\n",
      "ngl-pb-2020.csv\t\t\t     srag-2021.csv\r\n"
     ]
    }
   ],
   "source": [
    "!ls"
   ]
  },
  {
   "cell_type": "markdown",
   "id": "e2670c96",
   "metadata": {},
   "source": [
    "## Campanha Nacional de Vacinação contra a Covid-19 (Estado da Paraíba)"
   ]
  },
  {
   "cell_type": "markdown",
   "id": "a78d2180",
   "metadata": {},
   "source": [
    "### Downloads"
   ]
  },
  {
   "cell_type": "code",
   "execution_count": 23,
   "id": "71d6c23d",
   "metadata": {},
   "outputs": [
    {
     "name": "stdout",
     "output_type": "stream",
     "text": [
      "--2022-12-18 00:56:36--  https://s3.sa-east-1.amazonaws.com/ckan.saude.gov.br/SIPNI/COVID/uf/uf%3DPB/part-00000-cebaa94c-82a9-46e2-8c12-9cc16a61b38b.c000.csv\n",
      "Resolving s3.sa-east-1.amazonaws.com (s3.sa-east-1.amazonaws.com)... 52.95.165.92\n",
      "Connecting to s3.sa-east-1.amazonaws.com (s3.sa-east-1.amazonaws.com)|52.95.165.92|:443... connected.\n",
      "HTTP request sent, awaiting response... 403 Forbidden\n",
      "2022-12-18 00:56:36 ERROR 403: Forbidden.\n",
      "\n"
     ]
    }
   ],
   "source": [
    "fileid=\"1KpZfZzHsFDSEP2OGGXOc42SPOQEguKuK\"\n",
    "filename=\"vacinacao-covid-pb.csv\"\n",
    "!wget --save-cookies cookies.txt 'https://drive.google.com/uc?export=download&id='$fileid -O- | sed -rn 's/.*confirm=([0-9A-Za-z_]+).*/\\1/p' > confirm.txt\n",
    "!wget --load-cookies cookies.txt -O $filename 'https://drive.google.com/uc?export=download&id='$fileid'&confirm='$(<confirm.txt)"
   ]
  },
  {
   "cell_type": "code",
   "execution_count": 24,
   "id": "bfe7b2fa",
   "metadata": {},
   "outputs": [
    {
     "name": "stdout",
     "output_type": "stream",
     "text": [
      "data-integration-covid-brasil.ipynb  srag-2020.csv  srag-2022.csv\r\n",
      "ngl-pb-2020.csv\t\t\t     srag-2021.csv\r\n"
     ]
    }
   ],
   "source": [
    "!ls"
   ]
  }
 ],
 "metadata": {
  "kernelspec": {
   "display_name": "Python 3 (ipykernel)",
   "language": "python",
   "name": "python3"
  },
  "language_info": {
   "codemirror_mode": {
    "name": "ipython",
    "version": 3
   },
   "file_extension": ".py",
   "mimetype": "text/x-python",
   "name": "python",
   "nbconvert_exporter": "python",
   "pygments_lexer": "ipython3",
   "version": "3.9.13"
  }
 },
 "nbformat": 4,
 "nbformat_minor": 5
}
