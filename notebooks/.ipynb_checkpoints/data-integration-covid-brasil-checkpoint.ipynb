{
 "cells": [
  {
   "cell_type": "markdown",
   "id": "709b076f",
   "metadata": {},
   "source": [
    "# data-integration-covid-brasil"
   ]
  },
  {
   "cell_type": "markdown",
   "id": "731974b7",
   "metadata": {},
   "source": [
    "# Data Pipelines"
   ]
  },
  {
   "cell_type": "markdown",
   "id": "437b8571",
   "metadata": {},
   "source": [
    "## Banco de dados de síndrome respiratória aguda grave - incluindo dados do COVID-19"
   ]
  },
  {
   "cell_type": "markdown",
   "id": "ac773f56",
   "metadata": {},
   "source": [
    "### Downloads"
   ]
  },
  {
   "cell_type": "markdown",
   "id": "ab04b5ce",
   "metadata": {},
   "source": [
    "### 2020"
   ]
  },
  {
   "cell_type": "code",
   "execution_count": 2,
   "id": "0dc2a8f2",
   "metadata": {},
   "outputs": [
    {
     "name": "stdout",
     "output_type": "stream",
     "text": [
      "--2022-12-06 19:34:35--  https://s3.sa-east-1.amazonaws.com/ckan.saude.gov.br/SRAG/2020/INFLUD20-14-11-2022.csv\n",
      "Resolving s3.sa-east-1.amazonaws.com (s3.sa-east-1.amazonaws.com)... 16.12.2.20\n",
      "Connecting to s3.sa-east-1.amazonaws.com (s3.sa-east-1.amazonaws.com)|16.12.2.20|:443... connected.\n",
      "HTTP request sent, awaiting response... 200 OK\n",
      "Length: 653721516 (623M) [text/csv]\n",
      "Saving to: ‘INFLUD20-14-11-2022.csv’\n",
      "\n",
      "INFLUD20-14-11-2022 100%[===================>] 623.44M  7.54MB/s    in 2m 18s  \n",
      "\n",
      "2022-12-06 19:36:54 (4.51 MB/s) - ‘INFLUD20-14-11-2022.csv’ saved [653721516/653721516]\n",
      "\n"
     ]
    }
   ],
   "source": [
    "!wget https://s3.sa-east-1.amazonaws.com/ckan.saude.gov.br/SRAG/2020/INFLUD20-14-11-2022.csv"
   ]
  },
  {
   "cell_type": "code",
   "execution_count": 3,
   "id": "851fa57e",
   "metadata": {},
   "outputs": [
    {
     "name": "stdout",
     "output_type": "stream",
     "text": [
      "INFLUD20-14-11-2022.csv  data-integration-covid-brasil.ipynb\r\n"
     ]
    }
   ],
   "source": [
    "!ls"
   ]
  },
  {
   "cell_type": "code",
   "execution_count": 4,
   "id": "eeb9cde3",
   "metadata": {},
   "outputs": [],
   "source": [
    "!mv INFLUD20-14-11-2022.csv srag-2020.csv"
   ]
  },
  {
   "cell_type": "code",
   "execution_count": 5,
   "id": "9e4072eb",
   "metadata": {},
   "outputs": [
    {
     "name": "stdout",
     "output_type": "stream",
     "text": [
      "data-integration-covid-brasil.ipynb  srag-2020.csv\r\n"
     ]
    }
   ],
   "source": [
    "!ls"
   ]
  },
  {
   "cell_type": "markdown",
   "id": "f921801b",
   "metadata": {},
   "source": [
    "### 2021"
   ]
  },
  {
   "cell_type": "code",
   "execution_count": 6,
   "id": "260ef4c4",
   "metadata": {},
   "outputs": [
    {
     "name": "stdout",
     "output_type": "stream",
     "text": [
      "--2022-12-06 19:42:38--  https://s3.sa-east-1.amazonaws.com/ckan.saude.gov.br/SRAG/2021/INFLUD21-14-11-2022.csv\n",
      "Resolving s3.sa-east-1.amazonaws.com (s3.sa-east-1.amazonaws.com)... 52.95.163.112\n",
      "Connecting to s3.sa-east-1.amazonaws.com (s3.sa-east-1.amazonaws.com)|52.95.163.112|:443... connected.\n",
      "HTTP request sent, awaiting response... 200 OK\n",
      "Length: 1023378346 (976M) [text/csv]\n",
      "Saving to: ‘INFLUD21-14-11-2022.csv’\n",
      "\n",
      "INFLUD21-14-11-2022 100%[===================>] 975.97M  5.25MB/s    in 4m 25s  \n",
      "\n",
      "2022-12-06 19:47:09 (3.68 MB/s) - ‘INFLUD21-14-11-2022.csv’ saved [1023378346/1023378346]\n",
      "\n"
     ]
    }
   ],
   "source": [
    "!wget https://s3.sa-east-1.amazonaws.com/ckan.saude.gov.br/SRAG/2021/INFLUD21-14-11-2022.csv"
   ]
  },
  {
   "cell_type": "code",
   "execution_count": 7,
   "id": "06318e93",
   "metadata": {},
   "outputs": [
    {
     "name": "stdout",
     "output_type": "stream",
     "text": [
      "INFLUD21-14-11-2022.csv  data-integration-covid-brasil.ipynb  srag-2020.csv\r\n"
     ]
    }
   ],
   "source": [
    "!ls"
   ]
  },
  {
   "cell_type": "code",
   "execution_count": 8,
   "id": "54ae2926",
   "metadata": {},
   "outputs": [],
   "source": [
    "!mv INFLUD21-14-11-2022.csv srag-2021.csv"
   ]
  },
  {
   "cell_type": "code",
   "execution_count": 9,
   "id": "b2989cde",
   "metadata": {},
   "outputs": [
    {
     "name": "stdout",
     "output_type": "stream",
     "text": [
      "data-integration-covid-brasil.ipynb  srag-2020.csv  srag-2021.csv\r\n"
     ]
    }
   ],
   "source": [
    "!ls"
   ]
  },
  {
   "cell_type": "markdown",
   "id": "1a777c67",
   "metadata": {},
   "source": [
    "### 2022"
   ]
  },
  {
   "cell_type": "code",
   "execution_count": 10,
   "id": "dc6384df",
   "metadata": {},
   "outputs": [
    {
     "name": "stdout",
     "output_type": "stream",
     "text": [
      "--2022-12-06 19:49:21--  https://s3.sa-east-1.amazonaws.com/ckan.saude.gov.br/SRAG/2022/INFLUD22-14-11-2022.csv\n",
      "Resolving s3.sa-east-1.amazonaws.com (s3.sa-east-1.amazonaws.com)... 52.95.164.80\n",
      "Connecting to s3.sa-east-1.amazonaws.com (s3.sa-east-1.amazonaws.com)|52.95.164.80|:443... connected.\n",
      "HTTP request sent, awaiting response... 200 OK\n",
      "Length: 317423743 (303M) [text/csv]\n",
      "Saving to: ‘INFLUD22-14-11-2022.csv’\n",
      "\n",
      "INFLUD22-14-11-2022 100%[===================>] 302.72M  5.59MB/s    in 99s     \n",
      "\n",
      "2022-12-06 19:51:00 (3.06 MB/s) - ‘INFLUD22-14-11-2022.csv’ saved [317423743/317423743]\n",
      "\n"
     ]
    }
   ],
   "source": [
    "!wget https://s3.sa-east-1.amazonaws.com/ckan.saude.gov.br/SRAG/2022/INFLUD22-14-11-2022.csv"
   ]
  },
  {
   "cell_type": "code",
   "execution_count": 11,
   "id": "0cc35c0e",
   "metadata": {},
   "outputs": [
    {
     "name": "stdout",
     "output_type": "stream",
     "text": [
      "INFLUD22-14-11-2022.csv\t\t     srag-2020.csv\r\n",
      "data-integration-covid-brasil.ipynb  srag-2021.csv\r\n"
     ]
    }
   ],
   "source": [
    "!ls"
   ]
  },
  {
   "cell_type": "code",
   "execution_count": 12,
   "id": "8883a2db",
   "metadata": {},
   "outputs": [],
   "source": [
    "!mv INFLUD22-14-11-2022.csv srag-2022.csv"
   ]
  },
  {
   "cell_type": "code",
   "execution_count": 13,
   "id": "dda0874e",
   "metadata": {},
   "outputs": [
    {
     "name": "stdout",
     "output_type": "stream",
     "text": [
      "data-integration-covid-brasil.ipynb  srag-2021.csv\r\n",
      "srag-2020.csv\t\t\t     srag-2022.csv\r\n"
     ]
    }
   ],
   "source": [
    "!ls"
   ]
  },
  {
   "cell_type": "markdown",
   "id": "f5f0aa73",
   "metadata": {},
   "source": [
    "## Notificações de Síndrome Gripal (Estado da Paraíba)"
   ]
  },
  {
   "cell_type": "markdown",
   "id": "1bb5ec6b",
   "metadata": {},
   "source": [
    "### Downloads"
   ]
  },
  {
   "cell_type": "markdown",
   "id": "35b76339",
   "metadata": {},
   "source": [
    "### 2020"
   ]
  },
  {
   "cell_type": "code",
   "execution_count": 15,
   "id": "ab48c5b0",
   "metadata": {},
   "outputs": [
    {
     "name": "stdout",
     "output_type": "stream",
     "text": [
      "--2022-12-06 20:01:46--  https://s3.sa-east-1.amazonaws.com/ckan.saude.gov.br/SGL/2020/uf=PB/lote=1/part-00000-98c07771-b33f-431c-b1fe-eed05d8301e5.c000.csv\n",
      "Resolving s3.sa-east-1.amazonaws.com (s3.sa-east-1.amazonaws.com)... 16.12.0.20\n",
      "Connecting to s3.sa-east-1.amazonaws.com (s3.sa-east-1.amazonaws.com)|16.12.0.20|:443... connected.\n",
      "HTTP request sent, awaiting response... 200 OK\n",
      "Length: 261068774 (249M) [text/csv]\n",
      "Saving to: ‘part-00000-98c07771-b33f-431c-b1fe-eed05d8301e5.c000.csv’\n",
      "\n",
      "part-00000-98c07771 100%[===================>] 248.97M  2.66MB/s    in 72s     \n",
      "\n",
      "2022-12-06 20:02:58 (3.46 MB/s) - ‘part-00000-98c07771-b33f-431c-b1fe-eed05d8301e5.c000.csv’ saved [261068774/261068774]\n",
      "\n"
     ]
    }
   ],
   "source": [
    "!wget https://s3.sa-east-1.amazonaws.com/ckan.saude.gov.br/SGL/2020/uf=PB/lote=1/part-00000-98c07771-b33f-431c-b1fe-eed05d8301e5.c000.csv"
   ]
  },
  {
   "cell_type": "code",
   "execution_count": 16,
   "id": "c37ca739",
   "metadata": {},
   "outputs": [
    {
     "name": "stdout",
     "output_type": "stream",
     "text": [
      "data-integration-covid-brasil.ipynb\t\t\t  srag-2021.csv\r\n",
      "part-00000-98c07771-b33f-431c-b1fe-eed05d8301e5.c000.csv  srag-2022.csv\r\n",
      "srag-2020.csv\r\n"
     ]
    }
   ],
   "source": [
    "!ls"
   ]
  },
  {
   "cell_type": "code",
   "execution_count": 17,
   "id": "63bac681",
   "metadata": {},
   "outputs": [],
   "source": [
    "!mv part-00000-98c07771-b33f-431c-b1fe-eed05d8301e5.c000.csv ngl-pb-2020.csv"
   ]
  },
  {
   "cell_type": "code",
   "execution_count": 18,
   "id": "24dddd3c",
   "metadata": {},
   "outputs": [
    {
     "name": "stdout",
     "output_type": "stream",
     "text": [
      "data-integration-covid-brasil.ipynb  srag-2020.csv  srag-2022.csv\r\n",
      "ngl-pb-2020.csv\t\t\t     srag-2021.csv\r\n"
     ]
    }
   ],
   "source": [
    "!ls"
   ]
  },
  {
   "cell_type": "markdown",
   "id": "5fd275fb",
   "metadata": {},
   "source": [
    "### 2021"
   ]
  },
  {
   "cell_type": "code",
   "execution_count": 19,
   "id": "734aaedb",
   "metadata": {},
   "outputs": [
    {
     "name": "stdout",
     "output_type": "stream",
     "text": [
      "--2022-12-06 20:04:47--  https://s3.sa-east-1.amazonaws.com/ckan.saude.gov.br/SGL/2021/uf=PB/lote=1/part-00000-a7c7dcd3-9bba-492a-877d-a85497fc9985.c000.csv\n",
      "Resolving s3.sa-east-1.amazonaws.com (s3.sa-east-1.amazonaws.com)... 52.95.164.100\n",
      "Connecting to s3.sa-east-1.amazonaws.com (s3.sa-east-1.amazonaws.com)|52.95.164.100|:443... connected.\n",
      "HTTP request sent, awaiting response... 403 Forbidden\n",
      "2022-12-06 20:04:47 ERROR 403: Forbidden.\n",
      "\n"
     ]
    }
   ],
   "source": [
    "!wget https://s3.sa-east-1.amazonaws.com/ckan.saude.gov.br/SGL/2021/uf=PB/lote=1/part-00000-a7c7dcd3-9bba-492a-877d-a85497fc9985.c000.csv"
   ]
  },
  {
   "cell_type": "code",
   "execution_count": 20,
   "id": "8fd02100",
   "metadata": {},
   "outputs": [
    {
     "name": "stdout",
     "output_type": "stream",
     "text": [
      "data-integration-covid-brasil.ipynb  srag-2020.csv  srag-2022.csv\r\n",
      "ngl-pb-2020.csv\t\t\t     srag-2021.csv\r\n"
     ]
    }
   ],
   "source": [
    "!ls"
   ]
  },
  {
   "cell_type": "markdown",
   "id": "452bbf5c",
   "metadata": {},
   "source": [
    "### 2022"
   ]
  },
  {
   "cell_type": "code",
   "execution_count": 21,
   "id": "a41aab8c",
   "metadata": {},
   "outputs": [
    {
     "name": "stdout",
     "output_type": "stream",
     "text": [
      "--2022-12-06 20:13:54--  https://s3.sa-east-1.amazonaws.com/ckan.saude.gov.br/SGL_NEW/2022/uf=PB/lote=1/part-00000-a884adeb-a49f-44a4-9d49-5698c43e68a8.c000.csv\n",
      "Resolving s3.sa-east-1.amazonaws.com (s3.sa-east-1.amazonaws.com)... 16.12.0.4\n",
      "Connecting to s3.sa-east-1.amazonaws.com (s3.sa-east-1.amazonaws.com)|16.12.0.4|:443... connected.\n",
      "HTTP request sent, awaiting response... 200 OK\n",
      "Length: 167611854 (160M) [binary/octet-stream]\n",
      "Saving to: ‘part-00000-a884adeb-a49f-44a4-9d49-5698c43e68a8.c000.csv’\n",
      "\n",
      "part-00000-a884adeb 100%[===================>] 159.85M  4.17MB/s    in 48s     \n",
      "\n",
      "2022-12-06 20:14:43 (3.31 MB/s) - ‘part-00000-a884adeb-a49f-44a4-9d49-5698c43e68a8.c000.csv’ saved [167611854/167611854]\n",
      "\n"
     ]
    }
   ],
   "source": [
    "!wget https://s3.sa-east-1.amazonaws.com/ckan.saude.gov.br/SGL_NEW/2022/uf=PB/lote=1/part-00000-a884adeb-a49f-44a4-9d49-5698c43e68a8.c000.csv"
   ]
  },
  {
   "cell_type": "code",
   "execution_count": 22,
   "id": "eb5fa6e0",
   "metadata": {},
   "outputs": [
    {
     "name": "stdout",
     "output_type": "stream",
     "text": [
      "data-integration-covid-brasil.ipynb\t\t\t  srag-2020.csv\r\n",
      "ngl-pb-2020.csv\t\t\t\t\t\t  srag-2021.csv\r\n",
      "part-00000-a884adeb-a49f-44a4-9d49-5698c43e68a8.c000.csv  srag-2022.csv\r\n"
     ]
    }
   ],
   "source": [
    "!ls"
   ]
  },
  {
   "cell_type": "code",
   "execution_count": 23,
   "id": "794be347",
   "metadata": {},
   "outputs": [],
   "source": [
    "!mv part-00000-a884adeb-a49f-44a4-9d49-5698c43e68a8.c000.csv ngl-pb-2022.csv"
   ]
  },
  {
   "cell_type": "code",
   "execution_count": 24,
   "id": "d91b1845",
   "metadata": {},
   "outputs": [
    {
     "name": "stdout",
     "output_type": "stream",
     "text": [
      "data-integration-covid-brasil.ipynb  ngl-pb-2022.csv  srag-2021.csv\r\n",
      "ngl-pb-2020.csv\t\t\t     srag-2020.csv    srag-2022.csv\r\n"
     ]
    }
   ],
   "source": [
    "!ls"
   ]
  },
  {
   "cell_type": "markdown",
   "id": "e2670c96",
   "metadata": {},
   "source": [
    "## Campanha Nacional de Vacinação contra a Covid-19 (Estado da Paraíba)"
   ]
  },
  {
   "cell_type": "markdown",
   "id": "a78d2180",
   "metadata": {},
   "source": [
    "### Downloads"
   ]
  },
  {
   "cell_type": "code",
   "execution_count": 27,
   "id": "71d6c23d",
   "metadata": {},
   "outputs": [
    {
     "name": "stdout",
     "output_type": "stream",
     "text": [
      "--2022-12-06 20:26:54--  https://s3.sa-east-1.amazonaws.com/ckan.saude.gov.br/SIPNI/COVID/uf/uf%3DPB/part-00000-cebaa94c-82a9-46e2-8c12-9cc16a61b38b.c000.csv\n",
      "Resolving s3.sa-east-1.amazonaws.com (s3.sa-east-1.amazonaws.com)... 52.95.163.30\n",
      "Connecting to s3.sa-east-1.amazonaws.com (s3.sa-east-1.amazonaws.com)|52.95.163.30|:443... connected.\n",
      "HTTP request sent, awaiting response... 200 OK\n",
      "Length: 1534154186 (1.4G) [text/csv]\n",
      "Saving to: ‘part-00000-cebaa94c-82a9-46e2-8c12-9cc16a61b38b.c000.csv’\n",
      "\n",
      "part-00000-cebaa94c 100%[===================>]   1.43G  7.11MB/s    in 6m 37s  \n",
      "\n",
      "2022-12-06 20:33:42 (3.68 MB/s) - ‘part-00000-cebaa94c-82a9-46e2-8c12-9cc16a61b38b.c000.csv’ saved [1534154186/1534154186]\n",
      "\n"
     ]
    }
   ],
   "source": [
    "!wget https://s3.sa-east-1.amazonaws.com/ckan.saude.gov.br/SIPNI/COVID/uf/uf%3DPB/part-00000-cebaa94c-82a9-46e2-8c12-9cc16a61b38b.c000.csv"
   ]
  },
  {
   "cell_type": "code",
   "execution_count": 28,
   "id": "bfe7b2fa",
   "metadata": {},
   "outputs": [
    {
     "name": "stdout",
     "output_type": "stream",
     "text": [
      "data-integration-covid-brasil.ipynb\r\n",
      "ngl-pb-2020.csv\r\n",
      "ngl-pb-2021.csv\r\n",
      "ngl-pb-2022.csv\r\n",
      "part-00000-cebaa94c-82a9-46e2-8c12-9cc16a61b38b.c000.csv\r\n",
      "srag-2020.csv\r\n",
      "srag-2021.csv\r\n",
      "srag-2022.csv\r\n"
     ]
    }
   ],
   "source": [
    "!ls"
   ]
  },
  {
   "cell_type": "code",
   "execution_count": 29,
   "id": "35271c58",
   "metadata": {},
   "outputs": [],
   "source": [
    "!mv part-00000-cebaa94c-82a9-46e2-8c12-9cc16a61b38b.c000.csv vacinacao-covid-pb.csv"
   ]
  },
  {
   "cell_type": "code",
   "execution_count": 30,
   "id": "d232a47e",
   "metadata": {},
   "outputs": [
    {
     "name": "stdout",
     "output_type": "stream",
     "text": [
      "data-integration-covid-brasil.ipynb  ngl-pb-2022.csv  srag-2022.csv\r\n",
      "ngl-pb-2020.csv\t\t\t     srag-2020.csv    vacinacao-covid-pb.csv\r\n",
      "ngl-pb-2021.csv\t\t\t     srag-2021.csv\r\n"
     ]
    }
   ],
   "source": [
    "!ls"
   ]
  }
 ],
 "metadata": {
  "kernelspec": {
   "display_name": "Python 3 (ipykernel)",
   "language": "python",
   "name": "python3"
  },
  "language_info": {
   "codemirror_mode": {
    "name": "ipython",
    "version": 3
   },
   "file_extension": ".py",
   "mimetype": "text/x-python",
   "name": "python",
   "nbconvert_exporter": "python",
   "pygments_lexer": "ipython3",
   "version": "3.9.13"
  }
 },
 "nbformat": 4,
 "nbformat_minor": 5
}
